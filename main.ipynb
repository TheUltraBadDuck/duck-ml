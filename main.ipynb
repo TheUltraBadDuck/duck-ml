{
 "cells": [
  {
   "cell_type": "code",
   "execution_count": null,
   "metadata": {},
   "outputs": [],
   "source": [
    "from model.regression import RegressionGraph, RegressionSoftmax\n",
    "from model.active_func import *"
   ]
  },
  {
   "cell_type": "code",
   "execution_count": null,
   "metadata": {},
   "outputs": [],
   "source": [
    "model = RegressionGraph(\"data/a0.05_b0_c-3_d0.csv\")\n",
    "\n",
    "model.modify(\"X_coord\", lambda x: x / 10)\n",
    "model.modify(\"y_coord\", lambda y: y / 20 + 1)\n",
    "\n",
    "model.split(0.5, 0.5)\n",
    "model.giveTheory([\"X_coord\"], [\"y_coord\"])\n",
    "\n",
    "model.train([lambda x: x ** 3 - 3 * x, LeakyReLU], [6], 0.01, 1500, print_error=False)\n",
    "model.test()\n",
    "\n",
    "model.graph(\"X_coord\", \"y_coord\", [\"test\", \"pred\"])"
   ]
  },
  {
   "cell_type": "code",
   "execution_count": null,
   "metadata": {},
   "outputs": [],
   "source": [
    "model = RegressionSoftmax(\"data/Heart.csv\")\n",
    "\n",
    "model.modify(\"MaxHR\", lambda x: x / 5)\n",
    "model.modify(\"AHD\", lambda x: 1 if x == \"Yes\" else 0)\n",
    "\n",
    "model.split(0.5, 0.5)\n",
    "model.giveTheory([\"MaxHR\"], [\"AHD\"])\n",
    "\n",
    "model.graph(\"MaxHR\", \"AHD\", [\"train\"])"
   ]
  },
  {
   "cell_type": "code",
   "execution_count": null,
   "metadata": {},
   "outputs": [],
   "source": [
    "model.train([3], 0.03, 500, print_error=True)\n",
    "model.test()\n",
    "\n",
    "model.graph(\"MaxHR\", \"AHD\", [\"test\", \"pred\"])"
   ]
  }
 ],
 "metadata": {
  "kernelspec": {
   "display_name": "Python 3",
   "language": "python",
   "name": "python3"
  },
  "language_info": {
   "codemirror_mode": {
    "name": "ipython",
    "version": 3
   },
   "file_extension": ".py",
   "mimetype": "text/x-python",
   "name": "python",
   "nbconvert_exporter": "python",
   "pygments_lexer": "ipython3",
   "version": "3.10.6"
  },
  "orig_nbformat": 4
 },
 "nbformat": 4,
 "nbformat_minor": 2
}
