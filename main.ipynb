{
 "cells": [
  {
   "cell_type": "code",
   "execution_count": 1,
   "metadata": {},
   "outputs": [],
   "source": [
    "import numpy as np\n",
    "import math\n",
    "import matplotlib.pyplot as plt\n",
    "import pandas as pd"
   ]
  },
  {
   "cell_type": "code",
   "execution_count": 2,
   "metadata": {},
   "outputs": [],
   "source": [
    "df = pd.read_csv('Heart.csv')"
   ]
  },
  {
   "cell_type": "code",
   "execution_count": 3,
   "metadata": {},
   "outputs": [
    {
     "data": {
      "text/plain": [
       "<matplotlib.collections.PathCollection at 0x2053d36e048>"
      ]
     },
     "execution_count": 3,
     "metadata": {},
     "output_type": "execute_result"
    },
    {
     "data": {
      "image/png": "[encoded data removed]",
      "text/plain": [
       "<Figure size 432x288 with 1 Axes>"
      ]
     },
     "metadata": {
      "needs_background": "light"
     },
     "output_type": "display_data"
    }
   ],
   "source": [
    "X = df['RestBP'].to_numpy()\n",
    "y = df['AHD'].to_numpy()\n",
    "size = X.shape[0]\n",
    "for i in range(size):\n",
    "    y[i] = 0 if y[i] == 'No' else 1\n",
    "y = np.array(y, dtype=float)\n",
    "X = X / 20 - 3.5\n",
    "plt.scatter(X, y, color = 'blue')"
   ]
  },
  {
   "cell_type": "code",
   "execution_count": 2,
   "metadata": {},
   "outputs": [
    {
     "data": {
      "text/plain": [
       "<matplotlib.collections.PathCollection at 0x158d9112f08>"
      ]
     },
     "execution_count": 2,
     "metadata": {},
     "output_type": "execute_result"
    },
    {
     "data": {
      "image/png": "[encoded data removed]",
      "text/plain": [
       "<Figure size 432x288 with 1 Axes>"
      ]
     },
     "metadata": {
      "needs_background": "light"
     },
     "output_type": "display_data"
    }
   ],
   "source": [
    "X = np.array([0.50, 0.75, 1.00, 1.25, 1.50, 1.75, 1.75, 2.00, 2.25, 2.50, \n",
    "              2.75, 3.00, 3.25, 3.50, 4.00, 4.25, 4.50, 4.75, 5.00, 5.50])\n",
    "y = np.array([0, 0, 0, 0, 0, 0, 1, 0, 1, 0, 1, 0, 1, 0, 1, 1, 1, 1, 1, 1])\n",
    "plt.scatter(X, y, color = 'blue')"
   ]
  },
  {
   "attachments": {},
   "cell_type": "markdown",
   "metadata": {},
   "source": [
    "# Logistic Regression"
   ]
  },
  {
   "cell_type": "code",
   "execution_count": 3,
   "metadata": {},
   "outputs": [],
   "source": [
    "def sigmoid(x):\n",
    "    return 1 / (1 + math.e**(-x))"
   ]
  },
  {
   "cell_type": "code",
   "execution_count": 4,
   "metadata": {},
   "outputs": [],
   "source": [
    "from model.lossfunc import *"
   ]
  },
  {
   "cell_type": "code",
   "execution_count": 5,
   "metadata": {},
   "outputs": [],
   "source": [
    "def logistic_sigmoid_regression(X, y, learning_rate = 0.05, tol = 1e-4, max_count = 10000):\n",
    "    \n",
    "    it = 0\n",
    "    w = np.random.randn()\n",
    "    b = np.random.randn()\n",
    "    \n",
    "    count = 0\n",
    "    while count < max_count:\n",
    "        y_hat = np.copy(y)\n",
    "        mix_id = np.random.permutation(X.shape[0])\n",
    "        for i in mix_id:\n",
    "            Z = sigmoid(w * X[i] + b)\n",
    "            y_hat[i] = Z\n",
    "            w = w + learning_rate * (y[i] - Z) * X[i]\n",
    "            b = b + learning_rate * (y[i] - Z)\n",
    "            count += 1\n",
    "\n",
    "        CrossEntropy(y, y_hat)\n",
    "            \n",
    "    return w,b"
   ]
  },
  {
   "cell_type": "code",
   "execution_count": 6,
   "metadata": {},
   "outputs": [
    {
     "name": "stdout",
     "output_type": "stream",
     "text": [
      "1.4721324870394867 -4.130992388102264\n"
     ]
    }
   ],
   "source": [
    "w, b = logistic_sigmoid_regression(X, y)\n",
    "print(w, b)"
   ]
  },
  {
   "cell_type": "code",
   "execution_count": 9,
   "metadata": {},
   "outputs": [
    {
     "data": {
      "text/plain": [
       "[<matplotlib.lines.Line2D at 0x158dcf3b608>]"
      ]
     },
     "execution_count": 9,
     "metadata": {},
     "output_type": "execute_result"
    },
    {
     "data": {
      "image/png": "[encoded data removed]",
      "text/plain": [
       "<Figure size 432x288 with 1 Axes>"
      ]
     },
     "metadata": {
      "needs_background": "light"
     },
     "output_type": "display_data"
    }
   ],
   "source": [
    "plt.scatter(X, y, color = 'blue')\n",
    "line_x = np.linspace(0, 6, num = 110)\n",
    "line_y = np.array([sigmoid(w * i + b) for i in line_x])\n",
    "\n",
    "plt.plot(line_x, line_y)"
   ]
  },
  {
   "cell_type": "code",
   "execution_count": 11,
   "metadata": {},
   "outputs": [
    {
     "name": "stdout",
     "output_type": "stream",
     "text": [
      "0.5 , 0\n",
      "0.75 , 0\n",
      "1.0 , 0\n",
      "1.25 , 0\n",
      "1.5 , 0\n",
      "1.75 , 0\n",
      "1.75 , 1\n",
      "2.0 , 0\n",
      "2.25 , 1\n",
      "2.5 , 0\n",
      "2.75 , 1\n",
      "3.0 , 0\n",
      "3.25 , 1\n",
      "3.5 , 0\n",
      "4.0 , 1\n",
      "4.25 , 1\n",
      "4.5 , 1\n",
      "4.75 , 1\n",
      "5.0 , 1\n",
      "5.5 , 1\n"
     ]
    }
   ],
   "source": [
    "for i in range(X.shape[0]):\n",
    "    print(X[i], ',', y[i])"
   ]
  },
  {
   "attachments": {},
   "cell_type": "markdown",
   "metadata": {},
   "source": [
    "# Perceptron Learning Algorithm"
   ]
  },
  {
   "cell_type": "code",
   "execution_count": null,
   "metadata": {},
   "outputs": [],
   "source": [
    "def trainWithPLA(train_X, train_y):\n",
    "\n",
    "    col_1 = np.reshape(np.ones(size * 2, dtype = int), (8, 1))\n",
    "\n",
    "    cal_X = np.concatenate((train_X.copy(), col_1), axis = 1)\n",
    "    beta = np.random.rand(np.shape(cal_X)[1])\n",
    "\n",
    "    for _ in range(20):\n",
    "        \n",
    "        rand_x = np.random.permutation(size * 2)\n",
    "\n",
    "        violating_point = False\n",
    "        for i in rand_x:\n",
    "            \n",
    "            if np.sign(np.dot(cal_X[i], beta)) != train_y[i]:\n",
    "                violating_point = True\n",
    "                dcrs = 0.1 * cal_X[i] * train_y[i]\n",
    "                beta += dcrs\n",
    "\n",
    "            print(beta)\n",
    "        \n",
    "        if not violating_point:\n",
    "            break\n",
    "\n",
    "    return beta"
   ]
  },
  {
   "cell_type": "code",
   "execution_count": null,
   "metadata": {},
   "outputs": [],
   "source": [
    "X = np.concatenate((X1, X2), axis = 0)\n",
    "y = np.concatenate((np.ones(size), -np.ones(size)), axis = 0)"
   ]
  },
  {
   "cell_type": "code",
   "execution_count": null,
   "metadata": {},
   "outputs": [],
   "source": [
    "beta = trainWithPLA(X, y)"
   ]
  },
  {
   "cell_type": "code",
   "execution_count": null,
   "metadata": {},
   "outputs": [],
   "source": [
    "plt.scatter(X1[:, 0], X1[:, 1], color = 'blue')\n",
    "plt.scatter(X2[:, 0], X2[:, 1], color = 'red')\n",
    "line_x = np.linspace(0, 6, num = 24)\n",
    "line_y = np.array([-beta[2]/beta[1] - beta[0]*i/beta[1] for i in line_x])\n",
    "\n",
    "plt.plot(line_x, line_y)"
   ]
  },
  {
   "cell_type": "code",
   "execution_count": null,
   "metadata": {},
   "outputs": [],
   "source": []
  },
  {
   "cell_type": "code",
   "execution_count": null,
   "metadata": {},
   "outputs": [],
   "source": []
  }
 ],
 "metadata": {
  "kernelspec": {
   "display_name": "Python 3.7.11 ('base')",
   "language": "python",
   "name": "python3"
  },
  "language_info": {
   "codemirror_mode": {
    "name": "ipython",
    "version": 3
   },
   "file_extension": ".py",
   "mimetype": "text/x-python",
   "name": "python",
   "nbconvert_exporter": "python",
   "pygments_lexer": "ipython3",
   "version": "3.7.11"
  },
  "orig_nbformat": 4,
  "vscode": {
   "interpreter": {
    "hash": "5ae58900cfbb8c43ab3495913814b7cf26024f51651a94ce8bf64d6111688e8d"
   }
  }
 },
 "nbformat": 4,
 "nbformat_minor": 2
}
