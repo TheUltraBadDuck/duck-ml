{
 "cells": [
  {
   "cell_type": "code",
   "execution_count": 2,
   "metadata": {},
   "outputs": [],
   "source": [
    "import numpy as np\n",
    "import matplotlib.pyplot as plt\n",
    "import pandas as pd\n",
    "\n",
    "import torch\n",
    "from torch.autograd import Variable"
   ]
  },
  {
   "cell_type": "code",
   "execution_count": 58,
   "metadata": {},
   "outputs": [],
   "source": [
    "df = pd.read_csv(\"linear.csv\")\n",
    "x_data = Variable(torch.Tensor(df[\"X_coord\"])).view(-1, 1)\n",
    "y_data = Variable(torch.Tensor(df[\"y_coord\"])).view(-1, 1)\n",
    "x_data = torch.div(x_data, 10)\n",
    "y_data = torch.div(y_data, 10)"
   ]
  },
  {
   "cell_type": "code",
   "execution_count": 59,
   "metadata": {},
   "outputs": [
    {
     "data": {
      "image/png": "[encoded data removed]",
      "text/plain": [
       "<Figure size 432x288 with 1 Axes>"
      ]
     },
     "metadata": {
      "needs_background": "light"
     },
     "output_type": "display_data"
    }
   ],
   "source": [
    "plt.scatter(x_data, y_data)\n",
    "plt.show()"
   ]
  },
  {
   "cell_type": "code",
   "execution_count": 50,
   "metadata": {},
   "outputs": [],
   "source": [
    "class LinearRegressionModel(torch.nn.Module):\n",
    "    def __init__(self) -> None:\n",
    "        super(LinearRegressionModel, self).__init__()\n",
    "        self.linear = torch.nn.Linear(1, 1)\n",
    "    def forward(self, x):\n",
    "        result = self.linear(x)\n",
    "        return result"
   ]
  },
  {
   "cell_type": "code",
   "execution_count": 60,
   "metadata": {},
   "outputs": [],
   "source": [
    "model = LinearRegressionModel()\n",
    "criterion = torch.nn.MSELoss(reduction=\"sum\")\n",
    "optimizer = torch.optim.SGD(model.parameters(), lr=0.0001)"
   ]
  },
  {
   "cell_type": "code",
   "execution_count": 61,
   "metadata": {},
   "outputs": [
    {
     "name": "stdout",
     "output_type": "stream",
     "text": [
      "epoch 0, loss 27862.55078125\n",
      "epoch 1, loss 3014.72314453125\n",
      "epoch 2, loss 337.1827087402344\n",
      "epoch 3, loss 48.61997985839844\n",
      "epoch 4, loss 17.48385238647461\n",
      "epoch 5, loss 14.08726692199707\n",
      "epoch 6, loss 13.68023681640625\n",
      "epoch 7, loss 13.595730781555176\n",
      "epoch 8, loss 13.546403884887695\n",
      "epoch 9, loss 13.501237869262695\n",
      "epoch 10, loss 13.456948280334473\n",
      "epoch 11, loss 13.413115501403809\n",
      "epoch 12, loss 13.36973762512207\n",
      "epoch 13, loss 13.326789855957031\n",
      "epoch 14, loss 13.284248352050781\n",
      "epoch 15, loss 13.242141723632812\n",
      "epoch 16, loss 13.200460433959961\n",
      "epoch 17, loss 13.159178733825684\n",
      "epoch 18, loss 13.118322372436523\n",
      "epoch 19, loss 13.077852249145508\n",
      "epoch 20, loss 13.037774085998535\n",
      "epoch 21, loss 12.998116493225098\n",
      "epoch 22, loss 12.958845138549805\n",
      "epoch 23, loss 12.91995620727539\n",
      "epoch 24, loss 12.881448745727539\n",
      "epoch 25, loss 12.843334197998047\n",
      "epoch 26, loss 12.80559253692627\n",
      "epoch 27, loss 12.768220901489258\n",
      "epoch 28, loss 12.731217384338379\n",
      "epoch 29, loss 12.694592475891113\n",
      "epoch 30, loss 12.65831470489502\n",
      "epoch 31, loss 12.622410774230957\n",
      "epoch 32, loss 12.586851119995117\n",
      "epoch 33, loss 12.551647186279297\n",
      "epoch 34, loss 12.516794204711914\n",
      "epoch 35, loss 12.482284545898438\n",
      "epoch 36, loss 12.448102951049805\n",
      "epoch 37, loss 12.414281845092773\n",
      "epoch 38, loss 12.380788803100586\n",
      "epoch 39, loss 12.347627639770508\n",
      "epoch 40, loss 12.314784049987793\n",
      "epoch 41, loss 12.282278060913086\n",
      "epoch 42, loss 12.250083923339844\n",
      "epoch 43, loss 12.218215942382812\n",
      "epoch 44, loss 12.186665534973145\n",
      "epoch 45, loss 12.155423164367676\n",
      "epoch 46, loss 12.124483108520508\n",
      "epoch 47, loss 12.093863487243652\n",
      "epoch 48, loss 12.063541412353516\n",
      "epoch 49, loss 12.0335111618042\n",
      "epoch 50, loss 12.00378704071045\n",
      "epoch 51, loss 11.974352836608887\n",
      "epoch 52, loss 11.945213317871094\n",
      "epoch 53, loss 11.916364669799805\n",
      "epoch 54, loss 11.887797355651855\n",
      "epoch 55, loss 11.859509468078613\n",
      "epoch 56, loss 11.831503868103027\n",
      "epoch 57, loss 11.803773880004883\n",
      "epoch 58, loss 11.776318550109863\n",
      "epoch 59, loss 11.749144554138184\n",
      "epoch 60, loss 11.722230911254883\n",
      "epoch 61, loss 11.695596694946289\n",
      "epoch 62, loss 11.66920280456543\n",
      "epoch 63, loss 11.643086433410645\n",
      "epoch 64, loss 11.617230415344238\n",
      "epoch 65, loss 11.591615676879883\n",
      "epoch 66, loss 11.566276550292969\n",
      "epoch 67, loss 11.541167259216309\n",
      "epoch 68, loss 11.516317367553711\n",
      "epoch 69, loss 11.491704940795898\n",
      "epoch 70, loss 11.467344284057617\n",
      "epoch 71, loss 11.443220138549805\n",
      "epoch 72, loss 11.419331550598145\n",
      "epoch 73, loss 11.395687103271484\n",
      "epoch 74, loss 11.372283935546875\n",
      "epoch 75, loss 11.349104881286621\n",
      "epoch 76, loss 11.326150894165039\n",
      "epoch 77, loss 11.303418159484863\n",
      "epoch 78, loss 11.280922889709473\n",
      "epoch 79, loss 11.258644104003906\n",
      "epoch 80, loss 11.236589431762695\n",
      "epoch 81, loss 11.214749336242676\n",
      "epoch 82, loss 11.19312572479248\n",
      "epoch 83, loss 11.17172908782959\n",
      "epoch 84, loss 11.150528907775879\n",
      "epoch 85, loss 11.129541397094727\n",
      "epoch 86, loss 11.108762741088867\n",
      "epoch 87, loss 11.088197708129883\n",
      "epoch 88, loss 11.06782341003418\n",
      "epoch 89, loss 11.04765510559082\n",
      "epoch 90, loss 11.027694702148438\n",
      "epoch 91, loss 11.007913589477539\n",
      "epoch 92, loss 10.988338470458984\n",
      "epoch 93, loss 10.968963623046875\n",
      "epoch 94, loss 10.949772834777832\n",
      "epoch 95, loss 10.930776596069336\n",
      "epoch 96, loss 10.911961555480957\n",
      "epoch 97, loss 10.893339157104492\n",
      "epoch 98, loss 10.874902725219727\n",
      "epoch 99, loss 10.85663890838623\n"
     ]
    }
   ],
   "source": [
    "for epoch in range(100):\n",
    "    y_pred = model(x_data)\n",
    "    loss = criterion(y_pred, y_data)\n",
    "    optimizer.zero_grad()\n",
    "    loss.backward()\n",
    "    optimizer.step()\n",
    "    print('epoch {}, loss {}'.format(epoch, loss.item()))"
   ]
  },
  {
   "cell_type": "code",
   "execution_count": null,
   "metadata": {},
   "outputs": [],
   "source": []
  }
 ],
 "metadata": {
  "kernelspec": {
   "display_name": "base",
   "language": "python",
   "name": "python3"
  },
  "language_info": {
   "codemirror_mode": {
    "name": "ipython",
    "version": 3
   },
   "file_extension": ".py",
   "mimetype": "text/x-python",
   "name": "python",
   "nbconvert_exporter": "python",
   "pygments_lexer": "ipython3",
   "version": "3.7.11"
  },
  "orig_nbformat": 4
 },
 "nbformat": 4,
 "nbformat_minor": 2
}
